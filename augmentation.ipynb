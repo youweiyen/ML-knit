{
 "cells": [
  {
   "cell_type": "code",
   "execution_count": 1,
   "metadata": {},
   "outputs": [],
   "source": [
    "from tensorflow.keras.preprocessing.image import ImageDataGenerator\n",
    "import numpy as np\n"
   ]
  },
  {
   "cell_type": "code",
   "execution_count": 2,
   "metadata": {},
   "outputs": [
    {
     "name": "stdout",
     "output_type": "stream",
     "text": [
      "(420, 256, 256, 1)\n",
      "(420, 256, 256, 1)\n"
     ]
    }
   ],
   "source": [
    "data1 = np.load('learn_pat.npy')\n",
    "data2 = np.load('height_pat.npy')\n",
    "print(data1.shape)\n",
    "print(data2.shape)"
   ]
  },
  {
   "cell_type": "code",
   "execution_count": 3,
   "metadata": {},
   "outputs": [],
   "source": [
    "aug = ImageDataGenerator(\n",
    "\trotation_range=360,\n",
    "\thorizontal_flip=True,\n",
    "\tvertical_flip=True,\n",
    "\tfill_mode=\"nearest\")\n",
    "total = 0"
   ]
  },
  {
   "cell_type": "code",
   "execution_count": 4,
   "metadata": {},
   "outputs": [],
   "source": [
    "def gen_flow_for_two_inputs(X1, X2):\n",
    "    imageGen1 = aug.flow(X1, batch_size=1, save_to_dir='aug_pattern', seed=123,\n",
    "\tsave_prefix=\"pattern\", save_format=\"png\")\n",
    "    imageGen2 = aug.flow(X2, batch_size=1, save_to_dir='aug_height', seed=123,\n",
    "\tsave_prefix=\"height\", save_format=\"png\")\n",
    "    while True:\n",
    "            X1i = imageGen1.next()\n",
    "            X2i = imageGen2.next()\n",
    "            \n",
    "            yield [X1i[0], X2i[0]]\n",
    "\n",
    "# Finally create generator\n",
    "gen_flow = gen_flow_for_two_inputs(data1, data2)"
   ]
  },
  {
   "cell_type": "code",
   "execution_count": 5,
   "metadata": {},
   "outputs": [],
   "source": [
    "# loop over examples from our image data augmentation generator\n",
    "for image in gen_flow:\n",
    "\t# increment our counter\n",
    "\ttotal += 1\n",
    "\t# if we have reached the specified number of examples, break\n",
    "\t# from the loop\n",
    "\tif total == 1000:\n",
    "\t\tbreak"
   ]
  },
  {
   "cell_type": "code",
   "execution_count": null,
   "metadata": {},
   "outputs": [],
   "source": []
  }
 ],
 "metadata": {
  "interpreter": {
   "hash": "cfd3915824e9d6f335b8076afebb9c29e7fd38c30e3092ab0b67bf9df4f76ba4"
  },
  "kernelspec": {
   "display_name": "Python 3.9.7 ('CNN')",
   "language": "python",
   "name": "python3"
  },
  "language_info": {
   "codemirror_mode": {
    "name": "ipython",
    "version": 3
   },
   "file_extension": ".py",
   "mimetype": "text/x-python",
   "name": "python",
   "nbconvert_exporter": "python",
   "pygments_lexer": "ipython3",
   "version": "3.9.7"
  },
  "orig_nbformat": 4
 },
 "nbformat": 4,
 "nbformat_minor": 2
}

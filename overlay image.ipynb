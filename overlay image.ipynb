{
 "cells": [
  {
   "cell_type": "code",
   "execution_count": 2,
   "metadata": {},
   "outputs": [],
   "source": [
    "from PIL import Image\n",
    "import glob\n",
    "import os\n",
    "import numpy as np\n",
    "from keras.preprocessing.image import img_to_array\n",
    "from keras.preprocessing.image import array_to_img\n",
    "import natsort"
   ]
  },
  {
   "cell_type": "code",
   "execution_count": 3,
   "metadata": {},
   "outputs": [
    {
     "name": "stdout",
     "output_type": "stream",
     "text": [
      "420\n"
     ]
    }
   ],
   "source": [
    "filenames = glob.glob(\"rs_pat*.png\")\n",
    "sort_file = natsort.natsorted(filenames)\n",
    "\n",
    "front = []\n",
    "for f in sort_file :\n",
    "    n= Image.open(f)\n",
    "    front.append(n)\n",
    "\n",
    "print(len(front))\n",
    "\n",
    "#print(sort_file)"
   ]
  },
  {
   "cell_type": "code",
   "execution_count": 4,
   "metadata": {},
   "outputs": [],
   "source": [
    "img = []\n",
    "\n",
    "for i in range(len(front)):\n",
    "    back = Image.new(mode=\"L\", size=(256, 256), color = 150)\n",
    "    w,h = back.size # get width and height of back\n",
    "    f_width, f_height = front[i].size # Get front size\n",
    "    offset = (int((w-f_width)/2), int((h-f_height)/2)) # center align front\n",
    "    back.paste(front[i],offset)\n",
    "    \n",
    "    img.append(back)"
   ]
  },
  {
   "cell_type": "code",
   "execution_count": 5,
   "metadata": {},
   "outputs": [
    {
     "name": "stdout",
     "output_type": "stream",
     "text": [
      "420\n"
     ]
    }
   ],
   "source": [
    "print(len(img))\n",
    "#img[0].show()\n",
    "#img[90].show()"
   ]
  },
  {
   "cell_type": "code",
   "execution_count": 6,
   "metadata": {},
   "outputs": [
    {
     "name": "stdout",
     "output_type": "stream",
     "text": [
      "(256, 256, 1)\n",
      "(107520, 256, 1)\n"
     ]
    },
    {
     "data": {
      "text/plain": [
       "'\\nprint(pattern1.shape)\\nprint(a.shape)\\nrange(1,len(img))\\n'"
      ]
     },
     "execution_count": 6,
     "metadata": {},
     "output_type": "execute_result"
    }
   ],
   "source": [
    "\n",
    "#pattern1 = img_to_array(img[1])\n",
    "#a = np.append(pattern, pattern1)\n",
    "pattern = img_to_array(img[0])\n",
    "\n",
    "for i in range(1,len(img)):\n",
    "\n",
    "    learning = img_to_array(img[i])\n",
    "    \n",
    "    if i<2:\n",
    "        pattern1 = np.append(pattern,learning, axis=0)\n",
    "    \n",
    "    else:\n",
    "        pattern1 = np.append(pattern1,learning,axis = 0)\n",
    "    \n",
    "\n",
    "print(pattern.shape)\n",
    "print(pattern1.shape)\n",
    "'''\n",
    "print(pattern1.shape)\n",
    "print(a.shape)\n",
    "range(1,len(img))\n",
    "'''"
   ]
  },
  {
   "cell_type": "code",
   "execution_count": 7,
   "metadata": {},
   "outputs": [
    {
     "name": "stdout",
     "output_type": "stream",
     "text": [
      "(420, 256, 256, 1)\n"
     ]
    }
   ],
   "source": [
    "learn_pat = np.reshape(pattern1,(420,256,256,1))\n",
    "print (learn_pat.shape)"
   ]
  },
  {
   "cell_type": "code",
   "execution_count": 54,
   "metadata": {},
   "outputs": [],
   "source": [
    "#save numpyarray\n",
    "#filename1 = 'learn_pat.npy'\n",
    "#np.save(filename1, learn_pat)"
   ]
  },
  {
   "cell_type": "code",
   "execution_count": 12,
   "metadata": {},
   "outputs": [],
   "source": [
    "#save png\n",
    "for i in range(len(learn_pat)):\n",
    "    learn_png = array_to_img(learn_pat[i]) # convert to image\n",
    "    learn_png.save('pattern_{}.png'.format(i))"
   ]
  },
  {
   "cell_type": "code",
   "execution_count": null,
   "metadata": {},
   "outputs": [],
   "source": []
  }
 ],
 "metadata": {
  "interpreter": {
   "hash": "cfd3915824e9d6f335b8076afebb9c29e7fd38c30e3092ab0b67bf9df4f76ba4"
  },
  "kernelspec": {
   "display_name": "Python 3.9.7 ('CNN')",
   "language": "python",
   "name": "python3"
  },
  "language_info": {
   "codemirror_mode": {
    "name": "ipython",
    "version": 3
   },
   "file_extension": ".py",
   "mimetype": "text/x-python",
   "name": "python",
   "nbconvert_exporter": "python",
   "pygments_lexer": "ipython3",
   "version": "3.9.7"
  },
  "orig_nbformat": 4
 },
 "nbformat": 4,
 "nbformat_minor": 2
}

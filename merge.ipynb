{
 "cells": [
  {
   "cell_type": "code",
   "execution_count": 2,
   "metadata": {},
   "outputs": [],
   "source": [
    "import pandas as pd\n",
    "import glob\n",
    "import os\n",
    "import numpy as np\n",
    "import natsort\n",
    "from sklearn.preprocessing import MinMaxScaler\n",
    "from keras.preprocessing.image import array_to_img"
   ]
  },
  {
   "cell_type": "code",
   "execution_count": 3,
   "metadata": {},
   "outputs": [],
   "source": [
    "# setting the path for joining multiple files\n",
    "files = os.path.join(\"pat_csv\", \"h_pat*.csv\")\n",
    "filenames = glob.glob(\"height_pat*.csv\")\n",
    "sort_file = natsort.natsorted(filenames)\n",
    "#print(sort_file)"
   ]
  },
  {
   "cell_type": "code",
   "execution_count": 4,
   "metadata": {},
   "outputs": [
    {
     "name": "stdout",
     "output_type": "stream",
     "text": [
      "(420, 65536)\n"
     ]
    }
   ],
   "source": [
    "combine =[]\n",
    "for i in sort_file:\n",
    "    array = np.loadtxt(i, delimiter=\",\")\n",
    "    combine.append(array)\n",
    "\n",
    "combined = np.vstack((combine))\n",
    "\n",
    "print(combined.shape)"
   ]
  },
  {
   "cell_type": "code",
   "execution_count": 5,
   "metadata": {},
   "outputs": [
    {
     "name": "stdout",
     "output_type": "stream",
     "text": [
      "(420, 256, 256, 1)\n"
     ]
    }
   ],
   "source": [
    "scalerX = MinMaxScaler([-1, 1])\n",
    "X_scaled = scalerX.fit_transform(combined.T).T\n",
    "\n",
    "#RESHAPE\n",
    "def reshapeArr(array, w, h, c):\n",
    "    array = np.reshape(array, (array.shape[0], w, h, c))\n",
    "    return array\n",
    "\n",
    "height_pat = reshapeArr(X_scaled, 256,256, 1)\n",
    "print(height_pat.shape)"
   ]
  },
  {
   "cell_type": "code",
   "execution_count": 21,
   "metadata": {},
   "outputs": [],
   "source": [
    "#save numpyarray\n",
    "#filename2 = 'height_pat.npy'\n",
    "#np.save(filename2, height_pat)"
   ]
  },
  {
   "cell_type": "code",
   "execution_count": 8,
   "metadata": {},
   "outputs": [],
   "source": [
    "#save png\n",
    "for i in range(len(height_pat)):\n",
    "    height_png = array_to_img(height_pat[i]) # convert to image\n",
    "    height_png.save('height_{}.png'.format(i))"
   ]
  },
  {
   "cell_type": "code",
   "execution_count": null,
   "metadata": {},
   "outputs": [],
   "source": []
  }
 ],
 "metadata": {
  "interpreter": {
   "hash": "cfd3915824e9d6f335b8076afebb9c29e7fd38c30e3092ab0b67bf9df4f76ba4"
  },
  "kernelspec": {
   "display_name": "Python 3.9.7 ('CNN')",
   "language": "python",
   "name": "python3"
  },
  "language_info": {
   "codemirror_mode": {
    "name": "ipython",
    "version": 3
   },
   "file_extension": ".py",
   "mimetype": "text/x-python",
   "name": "python",
   "nbconvert_exporter": "python",
   "pygments_lexer": "ipython3",
   "version": "3.9.7"
  },
  "orig_nbformat": 4
 },
 "nbformat": 4,
 "nbformat_minor": 2
}

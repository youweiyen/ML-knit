{
 "cells": [
  {
   "cell_type": "code",
   "execution_count": 1,
   "metadata": {},
   "outputs": [],
   "source": [
    "import numpy as np\n",
    "from PIL import Image\n",
    "from keras.preprocessing.image import save_img\n",
    "from keras.preprocessing.image import img_to_array\n",
    "from keras.preprocessing.image import array_to_img"
   ]
  },
  {
   "cell_type": "code",
   "execution_count": 39,
   "metadata": {},
   "outputs": [
    {
     "name": "stdout",
     "output_type": "stream",
     "text": [
      "JPEG\n",
      "(2000, 2000)\n",
      "RGB\n"
     ]
    }
   ],
   "source": [
    "# Open the image from working directory\n",
    "kp = Image.open('pat0.jpg')\n",
    "# summarize some details about the image\n",
    "print(kp.format)\n",
    "print(kp.size)\n",
    "print(kp.mode)"
   ]
  },
  {
   "cell_type": "code",
   "execution_count": 40,
   "metadata": {},
   "outputs": [
    {
     "name": "stdout",
     "output_type": "stream",
     "text": [
      "1\n"
     ]
    }
   ],
   "source": [
    "#change mode\n",
    "# P = 256 rgb colors, L = 0~255 single channel grayscale, LA = L with alpha transparency, 1 = 0 & 255 Black and white\n",
    "im2 = kp.convert('L')\n",
    "im3 = im2.convert('1')\n",
    "print (im3.mode)"
   ]
  },
  {
   "cell_type": "code",
   "execution_count": 41,
   "metadata": {},
   "outputs": [
    {
     "name": "stdout",
     "output_type": "stream",
     "text": [
      "After resizing: (129, 60)\n"
     ]
    }
   ],
   "source": [
    "#resize image\n",
    "kp_rs = np.array(im3.resize((60,129)))\n",
    "\n",
    "print(\"After resizing:\",kp_rs.shape)"
   ]
  },
  {
   "cell_type": "code",
   "execution_count": 42,
   "metadata": {},
   "outputs": [
    {
     "name": "stdout",
     "output_type": "stream",
     "text": [
      "NumPy array info:\n",
      "<class 'numpy.ndarray'>\n",
      "type: float32\n",
      "shape: (129, 60, 1)\n"
     ]
    }
   ],
   "source": [
    "# convert to numpy array for image saving\n",
    "kp_array = img_to_array(kp_rs)\n",
    "print(\"NumPy array info:\") \n",
    "print(type(kp_array))    \n",
    "\n",
    "print(\"type:\",kp_array.dtype)\n",
    "print(\"shape:\",kp_array.shape)"
   ]
  },
  {
   "cell_type": "code",
   "execution_count": 43,
   "metadata": {},
   "outputs": [
    {
     "name": "stdout",
     "output_type": "stream",
     "text": [
      "converting NumPy array: <class 'PIL.Image.Image'>\n",
      "<class 'PIL.Image.Image'>\n",
      "None\n",
      "L\n",
      "(60, 129)\n"
     ]
    }
   ],
   "source": [
    "# convert to image\n",
    "kp_pil = array_to_img(kp_array)\n",
    "print(\"converting NumPy array:\",type(kp_pil))\n",
    "\n",
    "kp_pil.save('rs_pat0.png')\n",
    "\n",
    "print(type(kp_pil))\n",
    "print(kp_pil.format)\n",
    "print(kp_pil.mode)\n",
    "print(kp_pil.size)\n",
    "#kp_pil.show()"
   ]
  },
  {
   "cell_type": "code",
   "execution_count": 44,
   "metadata": {},
   "outputs": [
    {
     "name": "stdout",
     "output_type": "stream",
     "text": [
      "[255 255 255 255 255 255 255 255 255 255 255 255 255 255 255 255 255 255\n",
      " 255 255 255 255 255 255 255 255 255 255 255 255 255 255 255 255 255 255\n",
      " 255 255 255 255 255 255 255 255 255 255 255 255 255   0   0   0   0   0\n",
      "   0   0   0   0   0   0 255 255 255 255 255 255 255 255 255 255 255 255\n",
      " 255 255 255 255 255 255 255 255 255 255 255 255 255 255 255 255 255 255]\n"
     ]
    }
   ],
   "source": [
    "# flatten numpy array\n",
    "pattern = np.array(kp_pil.getchannel(0))\n",
    "flat_pattern = pattern.flatten()\n",
    "#print(flat_pattern[10:100])\n",
    "\n",
    "#save csv\n",
    "#flat_pattern.tofile('pattern_1.csv',sep=',',format='%d')"
   ]
  },
  {
   "cell_type": "code",
   "execution_count": 2,
   "metadata": {},
   "outputs": [],
   "source": [
    "def res_img(n_pat,Sx,Sy,size):\n",
    "    for i in range(n_pat):\n",
    "        # Open the image from working directory\n",
    "        kp = Image.open('pat{}.jpg'.format(i))\n",
    "    \n",
    "        #change mode\n",
    "        im2 = kp.convert('L')\n",
    "        im3 = im2.convert('1')\n",
    "\n",
    "        kp_rs = np.array(im3.resize((Sx,Sy))) #resize image\n",
    "\n",
    "        kp_array = img_to_array(kp_rs) # convert to numpy array for image saving\n",
    "        kp_pil = array_to_img(kp_array) # convert to image\n",
    "        kp_pil.save('rs_pat{}_{}.png'.format(i,size)) #save img\n",
    "        \n",
    "        #pattern = np.array(kp_pil.getchannel(0))# flatten numpy array\n",
    "        #flat_pattern = pattern.flatten()\n",
    "        #flat_pattern.tofile('pat{}_{}.csv'.format(i,size),sep=',',format='%d') #save csv\n"
   ]
  },
  {
   "cell_type": "code",
   "execution_count": 3,
   "metadata": {},
   "outputs": [],
   "source": [
    "for i in range(21):\n",
    "    for j in range(21):\n",
    "        Sx = [34,35,37,38,40,41,41,42,42,43,43,45,47,49,51,52,54,55,57,58,60]\n",
    "        Sy = [62,64,66,69,71,73,76,79,83,86,89,93,97,100,104,108,112,116,121,125,129]\n",
    "    \n",
    "        res_img(i,Sx[j],Sy[j],(j+10))"
   ]
  },
  {
   "cell_type": "code",
   "execution_count": null,
   "metadata": {},
   "outputs": [],
   "source": []
  }
 ],
 "metadata": {
  "interpreter": {
   "hash": "cfd3915824e9d6f335b8076afebb9c29e7fd38c30e3092ab0b67bf9df4f76ba4"
  },
  "kernelspec": {
   "display_name": "Python 3.9.7 ('CNN')",
   "language": "python",
   "name": "python3"
  },
  "language_info": {
   "codemirror_mode": {
    "name": "ipython",
    "version": 3
   },
   "file_extension": ".py",
   "mimetype": "text/x-python",
   "name": "python",
   "nbconvert_exporter": "python",
   "pygments_lexer": "ipython3",
   "version": "3.9.7"
  },
  "orig_nbformat": 4
 },
 "nbformat": 4,
 "nbformat_minor": 2
}

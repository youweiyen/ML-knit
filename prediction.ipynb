{
 "cells": [
  {
   "cell_type": "code",
   "execution_count": 7,
   "metadata": {},
   "outputs": [],
   "source": [
    "from keras.models import load_model\n",
    "from sklearn.preprocessing import MinMaxScaler\n",
    "import numpy as np\n",
    "import matplotlib.pyplot as plt\n",
    "import natsort\n",
    "import glob\n",
    "from PIL import Image\n",
    "from keras.preprocessing.image import img_to_array"
   ]
  },
  {
   "cell_type": "code",
   "execution_count": null,
   "metadata": {},
   "outputs": [],
   "source": [
    "def save_npy(file,n_file):\n",
    "    filenames = glob.glob('{}'.format(file))\n",
    "    sort_file = natsort.natsorted(filenames)\n",
    "\n",
    "    img = []\n",
    "    for f in sort_file :\n",
    "        n= Image.open(f)\n",
    "        img.append(n)\n",
    "\n",
    "    pattern = img_to_array(img[0])\n",
    "    for i in range(1,len(img)):\n",
    "        learning = img_to_array(img[i])\n",
    "        if i<2:\n",
    "            pattern1 = np.append(pattern,learning, axis=0)\n",
    "        else:\n",
    "            pattern1 = np.append(pattern1,learning,axis = 0)\n",
    "\n",
    "    learn_pat = np.reshape(pattern1,(n_file,256,256,1))\n",
    "    print (learn_pat.shape)\n",
    "\n",
    "    return learn_pat\n",
    "    #save numpyarray\n",
    "    #np.save(filename, learn_pat)"
   ]
  },
  {
   "cell_type": "code",
   "execution_count": 2,
   "metadata": {},
   "outputs": [],
   "source": [
    "# load and prepare training images\n",
    "def load_samples(test_height,test_pattern,n_data):\n",
    "    # load compressed ararys\n",
    "    #test_height = np.load(height)\n",
    "    #test_pattern = np.load(pattern)\n",
    "    #flatten to scale\n",
    "    flat_hei = np.reshape(test_height,(n_data,65536))\n",
    "    flat_pat = np.reshape(test_pattern,(n_data,65536))\n",
    "    # scale from [0,255] to [-1,1]\n",
    "    scalerX1 = MinMaxScaler([-1, 1])\n",
    "    scale_hei= scalerX1.fit_transform(flat_hei.T).T\n",
    "    scalerX2 = MinMaxScaler([-1, 1])\n",
    "    scale_pat = scalerX2.fit_transform(flat_pat.T).T\n",
    "    #reshape data back\n",
    "    X1 = np.reshape(scale_hei,(n_data,256,256,1))\n",
    "    X2 = np.reshape(scale_pat,(n_data,256,256,1))\n",
    "    return [X1, X2]"
   ]
  },
  {
   "cell_type": "code",
   "execution_count": 3,
   "metadata": {},
   "outputs": [],
   "source": [
    "# plot source, generated and target images\n",
    "def plot_images(src_img, gen_img, tar_img):\n",
    "\timages = np.vstack((src_img, gen_img, tar_img))\n",
    "\t# scale from [-1,1] to [0,1]\n",
    "\timages = (images + 1) / 2.0\n",
    "\ttitles = ['Source', 'Generated', 'Expected']\n",
    "\t# plot images row by row\n",
    "\tfor i in range(len(images)):\n",
    "\t\t# define subplot\n",
    "\t\tplt.subplot(1, 3, 1 + i)\n",
    "\t\t# turn off axis\n",
    "\t\tplt.axis('off')\n",
    "\t\t# plot raw pixel data\n",
    "\t\tplt.imshow(images[i])\n",
    "\t\t# show title\n",
    "\t\tplt.title(titles[i])\n",
    "\tplt.show()"
   ]
  },
  {
   "cell_type": "code",
   "execution_count": null,
   "metadata": {},
   "outputs": [],
   "source": [
    "#load model\n",
    "model = load_model('model_127800.h5')"
   ]
  },
  {
   "cell_type": "code",
   "execution_count": null,
   "metadata": {},
   "outputs": [],
   "source": [
    "# load dataset\n",
    "[X1, X2] = load_samples('maps_256.npz')\n",
    "print('Loaded', X1.shape, X2.shape)"
   ]
  },
  {
   "cell_type": "code",
   "execution_count": null,
   "metadata": {},
   "outputs": [],
   "source": [
    "# select random example\n",
    "ix = np.randint(0, len(X1), 1)\n",
    "src_image, tar_image = X1[ix], X2[ix]"
   ]
  },
  {
   "cell_type": "code",
   "execution_count": null,
   "metadata": {},
   "outputs": [],
   "source": [
    "gen_img = model.predict(src_img)"
   ]
  },
  {
   "cell_type": "code",
   "execution_count": null,
   "metadata": {},
   "outputs": [],
   "source": [
    "plot_images(src_image, gen_image, tar_image)"
   ]
  }
 ],
 "metadata": {
  "interpreter": {
   "hash": "8943d85919827d10578d0c5d80eeaac3cfb8d304a5d5329dec5803d0e3dc11bb"
  },
  "kernelspec": {
   "display_name": "Python 3.9.7 ('cnn')",
   "language": "python",
   "name": "python3"
  },
  "language_info": {
   "codemirror_mode": {
    "name": "ipython",
    "version": 3
   },
   "file_extension": ".py",
   "mimetype": "text/x-python",
   "name": "python",
   "nbconvert_exporter": "python",
   "pygments_lexer": "ipython3",
   "version": "3.9.7"
  },
  "orig_nbformat": 4
 },
 "nbformat": 4,
 "nbformat_minor": 2
}
